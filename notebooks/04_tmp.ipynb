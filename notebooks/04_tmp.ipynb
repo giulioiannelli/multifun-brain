{
 "cells": [
  {
   "cell_type": "code",
   "execution_count": 1,
   "id": "0de16245",
   "metadata": {},
   "outputs": [
    {
     "name": "stdout",
     "output_type": "stream",
     "text": [
      "/home/opisthofulax/Documents/UniPa/projects/multifun-brain\n"
     ]
    }
   ],
   "source": [
    "%matplotlib inline\n",
    "# %matplotlib ipympl\n",
    "#\n",
    "import sys; sys.path.insert(0, \"..\")\n",
    "from multifunbrain import *\n",
    "#\n",
    "from nilearn import datasets, plotting, image\n",
    "from nilearn.datasets import load_mni152_template\n",
    "import xml.etree.ElementTree as ET\n",
    "from mpl_toolkits.mplot3d import Axes3D\n",
    "from matplotlib.colors import ListedColormap, BoundaryNorm\n",
    "\n",
    "#\n",
    "path_root = Path.cwd().parent\n",
    "path_data =  path_root / Path(\"data\")\n",
    "#\n",
    "os.chdir(path_root)\n",
    "flag_path = True\n",
    "print(os.getcwd())"
   ]
  },
  {
   "cell_type": "code",
   "execution_count": null,
   "id": "7f6cc1b8",
   "metadata": {},
   "outputs": [],
   "source": [
    "path_data / \"HarvardOxford_48Parcels.ts.1D\""
   ]
  }
 ],
 "metadata": {
  "kernelspec": {
   "display_name": "multifun-brain",
   "language": "python",
   "name": "python3"
  },
  "language_info": {
   "codemirror_mode": {
    "name": "ipython",
    "version": 3
   },
   "file_extension": ".py",
   "mimetype": "text/x-python",
   "name": "python",
   "nbconvert_exporter": "python",
   "pygments_lexer": "ipython3",
   "version": "3.13.2"
  }
 },
 "nbformat": 4,
 "nbformat_minor": 5
}
