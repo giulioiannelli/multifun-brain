{
 "cells": [
  {
   "cell_type": "code",
   "execution_count": 1,
   "id": "153bf35f",
   "metadata": {},
   "outputs": [
    {
     "name": "stdout",
     "output_type": "stream",
     "text": [
      "Current working directory: /home/opisthofulax/Documents/UniPa/projects/multifun-brain\n"
     ]
    }
   ],
   "source": [
    "%matplotlib inline\n",
    "#\n",
    "import sys; sys.path.insert(0, \"..\")\n",
    "from multifunbrain import *\n",
    "#\n",
    "if '_dir_changed' not in globals():\n",
    "    path_root = Path.cwd().parent\n",
    "path_data =  path_root / Path(\"data\")\n",
    "path_atlas_timecourses = path_data / Path(\"atlas_timecourses\")\n",
    "path_correlation_matrices = path_data / Path(\"correlation_matrices\")\n",
    "path_neuroplots = path_data / Path(\"neuroplots\")\n",
    "#\n",
    "if '_dir_changed' not in globals():\n",
    "    os.chdir(path_root)\n",
    "    _dir_changed = True\n",
    "print(f\"Current working directory: {Path.cwd()}\")"
   ]
  },
  {
   "cell_type": "markdown",
   "id": "d56c8c29",
   "metadata": {},
   "source": [
    "### Atlas setup"
   ]
  },
  {
   "cell_type": "code",
   "execution_count": 2,
   "id": "79b7b765",
   "metadata": {},
   "outputs": [
    {
     "name": "stdout",
     "output_type": "stream",
     "text": [
      "[get_dataset_dir] Dataset found in /home/opisthofulax/Documents/UniPa/projects/multifun-brain/data/fsl\n"
     ]
    }
   ],
   "source": [
    "atlas = datasets.fetch_atlas_harvard_oxford('cort-maxprob-thr50-2mm', data_dir=path_data)\n",
    "atlas_filename = atlas.maps\n",
    "atlas_img = image.load_img(atlas_filename)\n",
    "atlas_data = atlas_img.get_fdata()\n",
    "#\n",
    "rois = atlas.labels\n",
    "rois_label_map = {i: ll for i,ll in enumerate(rois[1:])}\n",
    "roi_indices = np.unique(list(rois_label_map.keys()))\n",
    "#\n",
    "template = load_mni152_template()"
   ]
  },
  {
   "cell_type": "code",
   "execution_count": 3,
   "id": "71c7188e",
   "metadata": {},
   "outputs": [],
   "source": [
    "slow5_min = 0.01\n",
    "slow5_max = 0.073\n",
    "#\n",
    "f_test_min = 0.01\n",
    "f_test_max = 0.18\n",
    "#\n",
    "slow4_min = slow5_max\n",
    "slow4_max = f_test_max\n",
    "#"
   ]
  },
  {
   "cell_type": "code",
   "execution_count": 4,
   "id": "2e2813bf",
   "metadata": {},
   "outputs": [],
   "source": [
    "contrast_keys = [\"CBF_ASL\", \"CBV_VASO\", \"BOLD\", \"BOLD_RS\"]\n",
    "contrast_suffix = [\"CBF4D\", \"fcurN_Vaso\", \"furN_Bold\", \"optcomMIRDenoised_bold\"]\n",
    "sampling_frequency_vals = [1/5.5, 1/1.353, 1/1.353, 1/0.98]\n",
    "#\n",
    "file_names_dict = {dk: f\"HarvardOxford_48Parcels_kw{sf}.ts.1D\"\n",
    "                   for dk, sf in zip(contrast_keys, contrast_suffix)}\n",
    "sampling_frequency_dict = {dk: fs \n",
    "                           for dk, fs in zip(contrast_keys, sampling_frequency_vals)}\n",
    "contrast_dict = {dk: dict(\n",
    "    file_name=file_names_dict[dk], \n",
    "    freq=sampling_frequency_dict[dk])\n",
    "    for dk in contrast_keys \n",
    "}"
   ]
  },
  {
   "cell_type": "markdown",
   "id": "0ee24e0b",
   "metadata": {},
   "source": [
    "### Results with the Slow-4/5 Band"
   ]
  },
  {
   "cell_type": "code",
   "execution_count": 5,
   "id": "d34df110",
   "metadata": {},
   "outputs": [],
   "source": [
    "subject_folders = [f for f in path_atlas_timecourses.iterdir() if f.is_dir() and f.name.startswith(\"sub-\")]"
   ]
  },
  {
   "cell_type": "code",
   "execution_count": 6,
   "id": "d0a65298",
   "metadata": {},
   "outputs": [
    {
     "name": "stdout",
     "output_type": "stream",
     "text": [
      "Already exists: /home/opisthofulax/Documents/UniPa/projects/multifun-brain/data/correlation_matrices/sub-00266857/corr_slow4_BOLD_RS.npy, /home/opisthofulax/Documents/UniPa/projects/multifun-brain/data/correlation_matrices/sub-00266857/corr_slow5_BOLD_RS.npypy\r"
     ]
    }
   ],
   "source": [
    "for subject_folder in subject_folders:\n",
    "    #\n",
    "    subject_id = subject_folder.name\n",
    "    subject_results_dir = path_correlation_matrices / subject_id\n",
    "    subject_results_dir.mkdir(parents=True, exist_ok=True)\n",
    "    #\n",
    "    for dk in contrast_keys:\n",
    "        file_path = subject_folder / contrast_dict[dk][\"file_name\"]\n",
    "        file_out_corr_slow4 = subject_results_dir / f\"corr_slow4_{dk}.npy\"\n",
    "        file_out_corr_slow5 = subject_results_dir / f\"corr_slow5_{dk}.npy\"\n",
    "        file_out_corr_test = subject_results_dir / f\"corr_test_{dk}.npy\"\n",
    "        if file_path.exists() and (not file_out_corr_slow4.exists() or not file_out_corr_slow5.exists() or not file_out_corr_test.exists()):\n",
    "            ts_original = np.loadtxt(file_path)\n",
    "            num_timepoints, num_rois = ts_original.shape\n",
    "            #\n",
    "            ts_slow5 = np.zeros_like(ts_original)\n",
    "            ts_slow4 = np.zeros_like(ts_original)\n",
    "            ts_ftest = np.zeros_like(ts_original)\n",
    "            #\n",
    "            # Compute FFT for all ROIs along axis 0\n",
    "            fft_all = np.fft.fft(ts_original, axis=0)\n",
    "            frequencies = np.fft.fftfreq(num_timepoints, d=1/contrast_dict[dk][\"freq\"])\n",
    "            abs_freq = np.abs(frequencies)\n",
    "\n",
    "            # Create vectorized masks for the frequency bands\n",
    "            mask_slow5 = (abs_freq >= slow5_min) & (abs_freq <= slow5_max)\n",
    "            mask_slow4 = (abs_freq >= slow4_min) & (abs_freq <= slow4_max)\n",
    "            mask_ftest = (abs_freq >= f_test_min) & (abs_freq <= f_test_max)\n",
    "            # Apply masks and compute inverse FFT for each frequency band across all ROIs\n",
    "            ts_slow5 = np.real(np.fft.ifft(fft_all * mask_slow5[:, None], axis=0))\n",
    "            ts_slow4 = np.real(np.fft.ifft(fft_all * mask_slow4[:, None], axis=0))\n",
    "            ts_ftest = np.real(np.fft.ifft(fft_all * mask_ftest[:, None], axis=0))\n",
    "            corr_matrix_slow5 = np.corrcoef(ts_slow5.T)\n",
    "            corr_matrix_slow4 = np.corrcoef(ts_slow4.T)\n",
    "            corr_matrix_test = np.corrcoef(ts_ftest.T)\n",
    "            np.save(file_out_corr_slow5, corr_matrix_slow5)\n",
    "            np.save(file_out_corr_slow4, corr_matrix_slow4)\n",
    "            np.save(file_out_corr_test, corr_matrix_test)\n",
    "            print(f\"Saved: {file_out_corr_slow4}, {file_out_corr_slow5}, {file_out_corr_test}\", end=\"\\r\")\n",
    "        elif file_out_corr_slow4.exists() and file_out_corr_slow5.exists():\n",
    "            print(f\"Already exists: {file_out_corr_slow4}, {file_out_corr_slow5}\", end=\"\\r\")\n",
    "        else:\n",
    "            print(f\"Not found: {file_path}\",end=\"\\r\")"
   ]
  },
  {
   "cell_type": "code",
   "execution_count": 7,
   "id": "5aa1de42",
   "metadata": {},
   "outputs": [],
   "source": [
    "mean_corr_slow4 = {}\n",
    "mean_corr_slow5 = {}\n",
    "mean_corr_test = {}\n",
    "for dk in contrast_keys:\n",
    "    mean_corr_slow4[dk] = []\n",
    "    mean_corr_slow5[dk] = []\n",
    "    mean_corr_test[dk] = []\n",
    "    for subject_folder in subject_folders:\n",
    "        subject_id = subject_folder.name\n",
    "        subject_results_dir = path_correlation_matrices / subject_id\n",
    "        file_in_corr_slow4 = subject_results_dir / f\"corr_slow4_{dk}.npy\"\n",
    "        file_in_corr_slow5 = subject_results_dir / f\"corr_slow5_{dk}.npy\"\n",
    "        file_in_corr_test = subject_results_dir / f\"corr_test_{dk}.npy\"\n",
    "        if file_in_corr_slow4.exists() and file_in_corr_slow5.exists() and file_in_corr_test.exists():\n",
    "                    corr_slow4 = np.load(file_in_corr_slow4)\n",
    "                    corr_slow5 = np.load(file_in_corr_slow5)\n",
    "                    corr_test = np.load(file_in_corr_test)\n",
    "                    mean_corr_slow4[dk].append(corr_slow4)\n",
    "                    mean_corr_slow5[dk].append(corr_slow5)\n",
    "                    mean_corr_test[dk].append(corr_test)\n",
    "    mean_corr_slow4[dk] = np.mean(mean_corr_slow4[dk], axis=0)\n",
    "    mean_corr_slow5[dk] = np.mean(mean_corr_slow5[dk], axis=0)\n",
    "    mean_corr_test[dk] = np.mean(mean_corr_test[dk], axis=0)"
   ]
  },
  {
   "cell_type": "code",
   "execution_count": 8,
   "id": "b501ccf8",
   "metadata": {},
   "outputs": [],
   "source": [
    "corr_arr_dict = {'mean_corr_slow4': mean_corr_slow4,\n",
    "                 'mean_corr_slow5': mean_corr_slow5,\n",
    "                 'mean_corr_test': mean_corr_test}"
   ]
  },
  {
   "cell_type": "code",
   "execution_count": 9,
   "id": "caf4ef06",
   "metadata": {},
   "outputs": [
    {
     "data": {
      "text/plain": [
       "[<matplotlib.lines.Line2D at 0x7d20818d7c50>]"
      ]
     },
     "execution_count": 9,
     "metadata": {},
     "output_type": "execute_result"
    },
    {
     "data": {
      "image/png": "[encoded data removed]",
      "text/plain": [
       "<Figure size 640x480 with 1 Axes>"
      ]
     },
     "metadata": {},
     "output_type": "display_data"
    }
   ],
   "source": [
    "dk = \"CBV_VASO\"\n",
    "corr = np.loadtxt(subject_folders[0] / contrast_dict[dk][\"file_name\"])\n",
    "tsteps = corr.shape[0]\n",
    "gamma = corr.shape[1]/tsteps\n",
    "eigvals = np.linalg.eigvals(mean_corr_slow4[\"BOLD\"])\n",
    "mp_dist = marchenko_pastur(eigvals, gamma)\n",
    "plt.hist(eigvals, bins=50, density=True)\n",
    "plt.plot(mp_dist)"
   ]
  },
  {
   "cell_type": "markdown",
   "id": "951bae4d",
   "metadata": {},
   "source": [
    "### Correlation Networks Analysis"
   ]
  },
  {
   "cell_type": "code",
   "execution_count": 10,
   "id": "905ce0d9",
   "metadata": {},
   "outputs": [
    {
     "data": {
      "text/plain": [
       "(dict_keys(['mean_corr_slow4', 'mean_corr_slow5', 'mean_corr_test']),\n",
       " ['CBF_ASL', 'CBV_VASO', 'BOLD', 'BOLD_RS'])"
      ]
     },
     "execution_count": 10,
     "metadata": {},
     "output_type": "execute_result"
    }
   ],
   "source": [
    "corr_arr_dict.keys(), contrast_keys"
   ]
  },
  {
   "cell_type": "code",
   "execution_count": 21,
   "id": "4cb191de",
   "metadata": {},
   "outputs": [
    {
     "name": "stdout",
     "output_type": "stream",
     "text": [
      "x value at crossing: 0.3218028371474601\n"
     ]
    },
    {
     "name": "stderr",
     "output_type": "stream",
     "text": [
      "/home/opisthofulax/Documents/UniPa/projects/multifun-brain/notebooks/../multifunbrain/lrglib.py:53: RuntimeWarning: divide by zero encountered in log\n",
      "  S[i] = -np.nansum(rho * np.log(rho)) / np.log(N)\n",
      "/home/opisthofulax/Documents/UniPa/projects/multifun-brain/notebooks/../multifunbrain/lrglib.py:53: RuntimeWarning: invalid value encountered in multiply\n",
      "  S[i] = -np.nansum(rho * np.log(rho)) / np.log(N)\n"
     ]
    },
    {
     "name": "stdout",
     "output_type": "stream",
     "text": [
      "x value at crossing: 0.39239297610862567\n"
     ]
    },
    {
     "name": "stderr",
     "output_type": "stream",
     "text": [
      "/home/opisthofulax/Documents/UniPa/projects/multifun-brain/notebooks/../multifunbrain/lrglib.py:53: RuntimeWarning: divide by zero encountered in log\n",
      "  S[i] = -np.nansum(rho * np.log(rho)) / np.log(N)\n",
      "/home/opisthofulax/Documents/UniPa/projects/multifun-brain/notebooks/../multifunbrain/lrglib.py:53: RuntimeWarning: invalid value encountered in multiply\n",
      "  S[i] = -np.nansum(rho * np.log(rho)) / np.log(N)\n"
     ]
    },
    {
     "name": "stdout",
     "output_type": "stream",
     "text": [
      "x value at crossing: 0.5218829312752219\n"
     ]
    },
    {
     "name": "stderr",
     "output_type": "stream",
     "text": [
      "/home/opisthofulax/Documents/UniPa/projects/multifun-brain/notebooks/../multifunbrain/lrglib.py:53: RuntimeWarning: divide by zero encountered in log\n",
      "  S[i] = -np.nansum(rho * np.log(rho)) / np.log(N)\n",
      "/home/opisthofulax/Documents/UniPa/projects/multifun-brain/notebooks/../multifunbrain/lrglib.py:53: RuntimeWarning: invalid value encountered in multiply\n",
      "  S[i] = -np.nansum(rho * np.log(rho)) / np.log(N)\n"
     ]
    },
    {
     "name": "stdout",
     "output_type": "stream",
     "text": [
      "x value at crossing: 0.44744151050492453\n"
     ]
    },
    {
     "name": "stderr",
     "output_type": "stream",
     "text": [
      "/home/opisthofulax/Documents/UniPa/projects/multifun-brain/notebooks/../multifunbrain/lrglib.py:53: RuntimeWarning: divide by zero encountered in log\n",
      "  S[i] = -np.nansum(rho * np.log(rho)) / np.log(N)\n",
      "/home/opisthofulax/Documents/UniPa/projects/multifun-brain/notebooks/../multifunbrain/lrglib.py:53: RuntimeWarning: invalid value encountered in multiply\n",
      "  S[i] = -np.nansum(rho * np.log(rho)) / np.log(N)\n"
     ]
    }
   ],
   "source": [
    "for dk in contrast_keys:\n",
    "    corr_arr_str = \"mean_corr_slow5\"\n",
    "    graph_threshold = 0.1\n",
    "    pinf_threshold = 1-0.01\n",
    "    corr_arr = corr_arr_dict[corr_arr_str][dk]\n",
    "    G, _ = build_correlation_network(corr_arr)\n",
    "    Th, Einf, Pinf = compute_threshold_stats(G)\n",
    "    cross_idx = np.where((Pinf[:-1] >= pinf_threshold) & (Pinf[1:] < pinf_threshold))[0]\n",
    "    if cross_idx.size > 0:\n",
    "        i = cross_idx[0]\n",
    "        x_cross = Th[i] + (Th[i+1] - Th[i]) * (Pinf[i] - pinf_threshold) / (Pinf[i] - Pinf[i+1])\n",
    "        print(\"x value at crossing:\", x_cross)\n",
    "    else:\n",
    "        print(\"No crossing found.\")\n",
    "    G, removednodes = build_correlation_network(corr_arr, threshold=max(float(x_cross), graph_threshold))\n",
    "    L = nx.laplacian_matrix(G).todense()\n",
    "    spectrum = nx.laplacian_spectrum(G)\n",
    "    rho_m = lambda tau: rho_matrix(tau, L)\n",
    "    Sm1, Csp, VarL, t = entropy(spectrum)\n",
    "    #\n",
    "    fig, ax = plt.subplots(1, 2, figsize=(12, 6))\n",
    "    pos = nx.kamada_kawai_layout(G)\n",
    "    # nx.draw(G, pos=pos, ax=ax[0], alpha=0.7, with_labels=True)\n",
    "    ax[0].plot(Th, Pinf, label=\"Pinf\")\n",
    "    ax[0].plot(Th, Einf, label=\"Pinf\")\n",
    "    ax[0].axvline(x=max(float(x_cross), graph_threshold), color='red', linestyle='--', label=\"x_cross\")\n",
    "    plot_entropy_and_C(ax[1], t, Sm1, Csp, color1=\"blue\", color2=\"red\")\n",
    "    fig.suptitle(f\"Network Analysis - Contrast {dk}, {corr_arr_str}\")\n",
    "    fig.savefig(path_neuroplots / f\"netan_{dk}_{corr_arr_str}.png\", bbox_inches='tight')\n",
    "    # plt.close('all')\n",
    "    #\n",
    "    dists = symmetrized_inverse_distance(1/max(spectrum), rho_m)\n",
    "    linkage_matrix, label_list, tmax = compute_normalized_linkage(dists, G, method='ward')\n",
    "    merge_distances = linkage_matrix[:, 2]\n",
    "    tmin = linkage_matrix[::, 2][0] - 0.5*linkage_matrix[::, 2][0]\n",
    "    #\n",
    "    old_leaf_colors = {}\n",
    "    num_logpoint = 8\n",
    "    min_tau_exponent = int(min(np.log10(linkage_matrix[:,2]).astype(int)))\n",
    "    max_tau_exponent = int(np.log10(linkage_matrix[:,2]).astype(int)[-2])\n",
    "    for i, dendro_threshold in enumerate(np.logspace(min_tau_exponent, max_tau_exponent, num_logpoint)):\n",
    "        try:\n",
    "            old_leaf_colors\n",
    "        except NameError:\n",
    "            old_leaf_colors = {}\n",
    "        optimal_clusters = fcluster(linkage_matrix, t=dendro_threshold, criterion='distance')\n",
    "        #\n",
    "        fig2, ax2 = plt.subplots(1, 2, figsize=(8, 4))\n",
    "        dendro = dendrogram(linkage_matrix, ax=ax2[0],\n",
    "                            color_threshold=dendro_threshold,\n",
    "                            above_threshold_color='k',\n",
    "                            orientation='right', labels=label_list)\n",
    "        ax2[0].set_xscale('log')\n",
    "        ax2[0].set_xlim(tmin)\n",
    "        #\n",
    "        # Update colors: keep the old color if the label exists; otherwise, use the new color.\n",
    "        new_leaf_colors = {}\n",
    "        for label, new_color in zip(dendro['ivl'], dendro['leaves_color_list']):\n",
    "            if label in old_leaf_colors:\n",
    "                new_leaf_colors[label] = old_leaf_colors[label]\n",
    "            else:\n",
    "                new_leaf_colors[label] = new_color\n",
    "\n",
    "        leaf_label_colors = new_leaf_colors\n",
    "\n",
    "        # Store colors for the next iteration.\n",
    "        old_leaf_colors = new_leaf_colors.copy()\n",
    "        #\n",
    "        leaf_label_colors = {label: color for label, color in zip(dendro['ivl'], dendro['leaves_color_list'])}\n",
    "        node_colors = [leaf_label_colors[label] for _,label in enumerate(label_list)]\n",
    "        nx.draw(G, ax=ax2[1], node_color=node_colors, with_labels=True, alpha=0.7)\n",
    "        fig2.savefig(path_neuroplots / f\"dendrogram_{dk}_{corr_arr_str}_{i}_{dendro_threshold:.2e}.png\", bbox_inches='tight')\n",
    "        #\n",
    "        fig, ax = plt.subplots(figsize=(12, 6))\n",
    "        node_colors = [leaf_label_colors[i] if i in leaf_label_colors.keys() else 'white' for i in range(len(roi_indices))]\n",
    "        cmap = ListedColormap(node_colors)\n",
    "        plotting.plot_stat_map(atlas_img, bg_img=template, axes=ax, cmap=cmap, colorbar=False)\n",
    "        fig.savefig(path_neuroplots / f\"networkatlasmap_{dk}_{corr_arr_str}_{i}_{dendro_threshold:.2e}.png\", bbox_inches='tight')\n",
    "    plt.close('all')"
   ]
  },
  {
   "cell_type": "code",
   "execution_count": null,
   "id": "920e4286",
   "metadata": {},
   "outputs": [],
   "source": [
    "dk = \"CBV_VASO\"\n",
    "corr_arr_str = \"mean_corr_test\"\n",
    "graph_threshold = 0.1\n",
    "pinf_threshold = 1-0.01\n",
    "corr_arr = corr_arr_dict[corr_arr_str][dk]"
   ]
  },
  {
   "cell_type": "code",
   "execution_count": 17,
   "id": "54bb3a35",
   "metadata": {},
   "outputs": [
    {
     "name": "stdout",
     "output_type": "stream",
     "text": [
      "x value at crossing: 0.22900371022161303\n"
     ]
    },
    {
     "name": "stderr",
     "output_type": "stream",
     "text": [
      "/home/opisthofulax/Documents/UniPa/projects/multifun-brain/notebooks/../multifunbrain/lrglib.py:53: RuntimeWarning: divide by zero encountered in log\n",
      "  S[i] = -np.nansum(rho * np.log(rho)) / np.log(N)\n",
      "/home/opisthofulax/Documents/UniPa/projects/multifun-brain/notebooks/../multifunbrain/lrglib.py:53: RuntimeWarning: invalid value encountered in multiply\n",
      "  S[i] = -np.nansum(rho * np.log(rho)) / np.log(N)\n"
     ]
    },
    {
     "data": {
      "image/png": "[encoded data removed]",
      "text/plain": [
       "<Figure size 1200x600 with 3 Axes>"
      ]
     },
     "metadata": {},
     "output_type": "display_data"
    }
   ],
   "source": [
    "G, _ = build_correlation_network(corr_arr)\n",
    "Th, Einf, Pinf = compute_threshold_stats(G)\n",
    "cross_idx = np.where((Pinf[:-1] >= pinf_threshold) & (Pinf[1:] < pinf_threshold))[0]\n",
    "if cross_idx.size > 0:\n",
    "    i = cross_idx[0]\n",
    "    x_cross = Th[i] + (Th[i+1] - Th[i]) * (Pinf[i] - pinf_threshold) / (Pinf[i] - Pinf[i+1])\n",
    "    print(\"x value at crossing:\", x_cross)\n",
    "else:\n",
    "    print(\"No crossing found.\")\n",
    "G, removednodes = build_correlation_network(corr_arr, threshold=max(float(x_cross), graph_threshold))\n",
    "L = nx.laplacian_matrix(G).todense()\n",
    "spectrum = nx.laplacian_spectrum(G)\n",
    "rho_m = lambda tau: rho_matrix(tau, L)\n",
    "Sm1, Csp, VarL, t = entropy(spectrum)\n",
    "#\n",
    "fig, ax = plt.subplots(1, 2, figsize=(12, 6))\n",
    "pos = nx.kamada_kawai_layout(G)\n",
    "# nx.draw(G, pos=pos, ax=ax[0], alpha=0.7, with_labels=True)\n",
    "ax[0].plot(Th, Pinf, label=\"Pinf\")\n",
    "ax[0].plot(Th, Einf, label=\"Pinf\")\n",
    "ax[0].axvline(x=max(float(x_cross), graph_threshold), color='red', linestyle='--', label=\"x_cross\")\n",
    "plot_entropy_and_C(ax[1], t, Sm1, Csp, color1=\"blue\", color2=\"red\")\n",
    "fig.suptitle(f\"Network Analysis - Contrast {dk}, {corr_arr_str}\")\n",
    "fig.savefig(path_neuroplots / f\"netan_{dk}_{corr_arr_str}.png\", bbox_inches='tight')\n",
    "# plt.close('all')"
   ]
  },
  {
   "cell_type": "code",
   "execution_count": 18,
   "id": "2d6ce58b",
   "metadata": {},
   "outputs": [],
   "source": [
    "#\n",
    "dists = symmetrized_inverse_distance(1/max(spectrum), rho_m)\n",
    "linkage_matrix, label_list, tmax = compute_normalized_linkage(dists, G, method='ward')\n",
    "merge_distances = linkage_matrix[:, 2]\n",
    "tmin = linkage_matrix[::, 2][0] - 0.5*linkage_matrix[::, 2][0]"
   ]
  },
  {
   "cell_type": "code",
   "execution_count": 19,
   "id": "8b1a53da",
   "metadata": {},
   "outputs": [],
   "source": [
    "#\n",
    "old_leaf_colors = {}\n",
    "num_logpoint = 8\n",
    "min_tau_exponent = int(min(np.log10(linkage_matrix[:,2]).astype(int)))\n",
    "max_tau_exponent = int(np.log10(linkage_matrix[:,2]).astype(int)[-2])\n",
    "for i, dendro_threshold in enumerate(np.logspace(min_tau_exponent, max_tau_exponent, num_logpoint)):\n",
    "    try:\n",
    "        old_leaf_colors\n",
    "    except NameError:\n",
    "        old_leaf_colors = {}\n",
    "    optimal_clusters = fcluster(linkage_matrix, t=dendro_threshold, criterion='distance')\n",
    "    #\n",
    "    fig2, ax2 = plt.subplots(1, 2, figsize=(8, 4))\n",
    "    dendro = dendrogram(linkage_matrix, ax=ax2[0],\n",
    "                        color_threshold=dendro_threshold,\n",
    "                        above_threshold_color='k',\n",
    "                        orientation='right', labels=label_list)\n",
    "    ax2[0].set_xscale('log')\n",
    "    ax2[0].set_xlim(tmin)\n",
    "    #\n",
    "    # Update colors: keep the old color if the label exists; otherwise, use the new color.\n",
    "    new_leaf_colors = {}\n",
    "    for label, new_color in zip(dendro['ivl'], dendro['leaves_color_list']):\n",
    "        if label in old_leaf_colors:\n",
    "            new_leaf_colors[label] = old_leaf_colors[label]\n",
    "        else:\n",
    "            new_leaf_colors[label] = new_color\n",
    "\n",
    "    leaf_label_colors = new_leaf_colors\n",
    "\n",
    "    # Store colors for the next iteration.\n",
    "    old_leaf_colors = new_leaf_colors.copy()\n",
    "    #\n",
    "    leaf_label_colors = {label: color for label, color in zip(dendro['ivl'], dendro['leaves_color_list'])}\n",
    "    node_colors = [leaf_label_colors[label] for _,label in enumerate(label_list)]\n",
    "    nx.draw(G, ax=ax2[1], node_color=node_colors, with_labels=True, alpha=0.7)\n",
    "    fig2.savefig(path_neuroplots / f\"dendrogram_{dk}_{corr_arr_str}_{i}_{dendro_threshold:.2e}.png\", bbox_inches='tight')\n",
    "    #\n",
    "    fig, ax = plt.subplots(figsize=(12, 6))\n",
    "    node_colors = [leaf_label_colors[i] if i in leaf_label_colors.keys() else 'white' for i in range(len(roi_indices))]\n",
    "    cmap = ListedColormap(node_colors)\n",
    "    plotting.plot_stat_map(atlas_img, bg_img=template, axes=ax, cmap=cmap, colorbar=False)\n",
    "    fig.savefig(path_neuroplots / f\"networkatlasmap_{dk}_{corr_arr_str}_{i}_{dendro_threshold:.2e}.png\", bbox_inches='tight')\n",
    "plt.close('all')"
   ]
  },
  {
   "cell_type": "code",
   "execution_count": null,
   "id": "2f9bd9e4",
   "metadata": {},
   "outputs": [
    {
     "data": {
      "text/plain": [
       "(np.float64(0.0),\n",
       " np.float64(470.0),\n",
       " np.float64(7.035179941190334e-08),\n",
       " np.float64(1.0396039603960396))"
      ]
     },
     "execution_count": 15,
     "metadata": {},
     "output_type": "execute_result"
    },
    {
     "data": {
      "image/png": "[encoded data removed]",
      "text/plain": [
       "<Figure size 600x1200 with 1 Axes>"
      ]
     },
     "metadata": {},
     "output_type": "display_data"
    }
   ],
   "source": [
    "# plt.figure(figsize=(6, 12))\n",
    "# dendro = dendrogram(linkage_matrix, \n",
    "#                         color_threshold=1e-8,\n",
    "#                         above_threshold_color='k',\n",
    "#                         orientation='top', )\n",
    "# plt.yscale('log')\n",
    "# plt.ylim(bottom=tmin)\n",
    "# plt.axis('off')"
   ]
  },
  {
   "cell_type": "code",
   "execution_count": null,
   "id": "4faf1de1",
   "metadata": {},
   "outputs": [],
   "source": []
  },
  {
   "cell_type": "code",
   "execution_count": null,
   "id": "76d7a6dd",
   "metadata": {},
   "outputs": [],
   "source": []
  }
 ],
 "metadata": {
  "kernelspec": {
   "display_name": "multifun-brain",
   "language": "python",
   "name": "python3"
  },
  "language_info": {
   "codemirror_mode": {
    "name": "ipython",
    "version": 3
   },
   "file_extension": ".py",
   "mimetype": "text/x-python",
   "name": "python",
   "nbconvert_exporter": "python",
   "pygments_lexer": "ipython3",
   "version": "3.13.2"
  }
 },
 "nbformat": 4,
 "nbformat_minor": 5
}
