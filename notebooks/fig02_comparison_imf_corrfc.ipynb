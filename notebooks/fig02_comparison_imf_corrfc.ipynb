{
 "cells": [
  {
   "cell_type": "code",
   "execution_count": 1,
   "id": "3d197e5d",
   "metadata": {},
   "outputs": [
    {
     "name": "stdout",
     "output_type": "stream",
     "text": [
      "Current working directory: /home/opisthofulax/Documents/UniPa/projects/multifun-brain\n"
     ]
    }
   ],
   "source": [
    "%matplotlib inline\n",
    "#\n",
    "import sys; sys.path.insert(0, \"..\")\n",
    "from multifunbrain import *\n",
    "#\n",
    "if '_dir_changed' not in globals():\n",
    "    path_root = Path.cwd().parent\n",
    "path_data =  path_root / Path(\"data\")\n",
    "path_atlas_timecourses = path_data / Path(\"atlas_timecourses\")\n",
    "path_correlation_matrices = path_data / Path(\"correlation_matrices\")\n",
    "path_neuroplots = path_data / Path(\"neuroplots\")\n",
    "#\n",
    "if '_dir_changed' not in globals():\n",
    "    os.chdir(path_root)\n",
    "    _dir_changed = True\n",
    "print(f\"Current working directory: {Path.cwd()}\")"
   ]
  },
  {
   "cell_type": "code",
   "execution_count": 2,
   "id": "c9aa4216",
   "metadata": {},
   "outputs": [
    {
     "name": "stdout",
     "output_type": "stream",
     "text": [
      "[get_dataset_dir] Dataset found in /home/opisthofulax/Documents/UniPa/projects/multifun-brain/data/fsl\n"
     ]
    }
   ],
   "source": [
    "atlas = datasets.fetch_atlas_harvard_oxford('cort-maxprob-thr50-2mm', data_dir=path_data)\n",
    "atlas_filename = atlas.maps\n",
    "atlas_img = image.load_img(atlas_filename)\n",
    "atlas_data = atlas_img.get_fdata()\n",
    "#\n",
    "rois = atlas.labels\n",
    "rois_label_map = {i: ll for i,ll in enumerate(rois[1:])}\n",
    "roi_indices = np.unique(list(rois_label_map.keys()))\n",
    "#\n",
    "template = load_mni152_template()"
   ]
  },
  {
   "cell_type": "code",
   "execution_count": 3,
   "id": "76aeeb31",
   "metadata": {},
   "outputs": [],
   "source": [
    "contrast_keys = [\"CBF_ASL\", \"CBV_VASO\", \"BOLD\", \"BOLD_RS\"]\n",
    "contrast_suffix = [\"CBF4D\", \"fcurN_Vaso\", \"furN_Bold\", \"optcomMIRDenoised_bold\"]\n",
    "sampling_frequency_vals = [1/5.5, 1/1.353, 1/1.353, 1/0.98]\n",
    "#\n",
    "file_names_dict = {dk: f\"mean_corr_HarvardOxford_48Parcels_kw{sf}.ts.1D.pkl\"\n",
    "                   for dk, sf in zip(contrast_keys, contrast_suffix)}\n",
    "sampling_frequency_dict = {dk: fs \n",
    "                           for dk, fs in zip(contrast_keys, sampling_frequency_vals)}\n",
    "contrast_dict = {dk: dict(\n",
    "    file_name=file_names_dict[dk], \n",
    "    freq=sampling_frequency_dict[dk])\n",
    "    for dk in contrast_keys \n",
    "}"
   ]
  },
  {
   "cell_type": "code",
   "execution_count": 5,
   "id": "85752b50",
   "metadata": {},
   "outputs": [
    {
     "ename": "TypeError",
     "evalue": "file must have 'read' and 'readline' attributes",
     "output_type": "error",
     "traceback": [
      "\u001b[31m---------------------------------------------------------------------------\u001b[39m",
      "\u001b[31mTypeError\u001b[39m                                 Traceback (most recent call last)",
      "\u001b[36mCell\u001b[39m\u001b[36m \u001b[39m\u001b[32mIn[5]\u001b[39m\u001b[32m, line 4\u001b[39m\n\u001b[32m      2\u001b[39m \u001b[38;5;28;01mfor\u001b[39;00m dk \u001b[38;5;129;01min\u001b[39;00m contrast_keys:\n\u001b[32m      3\u001b[39m     file_name = contrast_dict[dk][\u001b[33m'\u001b[39m\u001b[33mfile_name\u001b[39m\u001b[33m'\u001b[39m]\n\u001b[32m----> \u001b[39m\u001b[32m4\u001b[39m     corr_matrices[dk] = \u001b[43mpickle\u001b[49m\u001b[43m.\u001b[49m\u001b[43mload\u001b[49m\u001b[43m(\u001b[49m\u001b[43mpath_correlation_matrices\u001b[49m\u001b[43m \u001b[49m\u001b[43m/\u001b[49m\u001b[43m \u001b[49m\u001b[43mPath\u001b[49m\u001b[43m(\u001b[49m\u001b[43mfile_name\u001b[49m\u001b[43m)\u001b[49m\u001b[43m)\u001b[49m\n",
      "\u001b[31mTypeError\u001b[39m: file must have 'read' and 'readline' attributes"
     ]
    }
   ],
   "source": [
    "corr_matrices = {}\n",
    "for dk in contrast_keys:\n",
    "    file_name = contrast_dict[dk]['file_name']\n",
    "    corr_matrices[dk] = pickle.load(path_correlation_matrices / Path(file_name))\n"
   ]
  },
  {
   "cell_type": "code",
   "execution_count": 7,
   "id": "90530974",
   "metadata": {},
   "outputs": [
    {
     "data": {
      "text/plain": [
       "PosixPath('/home/opisthofulax/Documents/UniPa/projects/multifun-brain/data/correlation_matrices/mean_corr_HarvardOxford_48Parcels_kwCBF4D.ts.1D.pkl')"
      ]
     },
     "execution_count": 7,
     "metadata": {},
     "output_type": "execute_result"
    }
   ],
   "source": [
    "path_correlation_matrices / Path(file_name)"
   ]
  },
  {
   "cell_type": "code",
   "execution_count": null,
   "id": "8fdca9e5",
   "metadata": {},
   "outputs": [],
   "source": []
  }
 ],
 "metadata": {
  "kernelspec": {
   "display_name": "multifun-brain",
   "language": "python",
   "name": "python3"
  },
  "language_info": {
   "codemirror_mode": {
    "name": "ipython",
    "version": 3
   },
   "file_extension": ".py",
   "mimetype": "text/x-python",
   "name": "python",
   "nbconvert_exporter": "python",
   "pygments_lexer": "ipython3",
   "version": "3.13.2"
  }
 },
 "nbformat": 4,
 "nbformat_minor": 5
}
